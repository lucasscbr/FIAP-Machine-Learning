{
 "cells": [
  {
   "cell_type": "code",
   "execution_count": 31,
   "metadata": {},
   "outputs": [],
   "source": [
    "import numpy as np\n",
    "import pandas as pd\n",
    "import re\n",
    "import time\n",
    "import string\n",
    "import unicodedata\n",
    "import spacy\n",
    "import torch\n",
    "\n",
    "from nltk.tokenize import word_tokenize\n",
    "from nltk.corpus import stopwords\n",
    "from sklearn.feature_extraction.text import CountVectorizer\n",
    "from sklearn.model_selection import train_test_split\n",
    "from sklearn import metrics\n",
    "from sklearn.preprocessing import LabelEncoder\n",
    "from transformers import BertTokenizer, BertForSequenceClassification, TrainingArguments\n",
    "from google_play_scraper import Sort, reviews\n",
    "from imblearn.over_sampling import SMOTE\n",
    "from sklearn.svm import SVC\n",
    "from sklearn.utils.class_weight import compute_class_weight\n",
    "from transformers import Trainer\n",
    "import torch.nn.functional as F\n",
    "\n"
   ]
  },
  {
   "cell_type": "code",
   "execution_count": 32,
   "metadata": {},
   "outputs": [
    {
     "data": {
      "text/html": [
       "<div>\n",
       "<style scoped>\n",
       "    .dataframe tbody tr th:only-of-type {\n",
       "        vertical-align: middle;\n",
       "    }\n",
       "\n",
       "    .dataframe tbody tr th {\n",
       "        vertical-align: top;\n",
       "    }\n",
       "\n",
       "    .dataframe thead th {\n",
       "        text-align: right;\n",
       "    }\n",
       "</style>\n",
       "<table border=\"1\" class=\"dataframe\">\n",
       "  <thead>\n",
       "    <tr style=\"text-align: right;\">\n",
       "      <th></th>\n",
       "      <th>content</th>\n",
       "      <th>score</th>\n",
       "    </tr>\n",
       "  </thead>\n",
       "  <tbody>\n",
       "    <tr>\n",
       "      <th>0</th>\n",
       "      <td>Muito ruim, não dá pra ver a calcinha das pers...</td>\n",
       "      <td>1</td>\n",
       "    </tr>\n",
       "    <tr>\n",
       "      <th>1</th>\n",
       "      <td>Muito bom</td>\n",
       "      <td>5</td>\n",
       "    </tr>\n",
       "    <tr>\n",
       "      <th>2</th>\n",
       "      <td>cd a Paimon 8 estrelad</td>\n",
       "      <td>1</td>\n",
       "    </tr>\n",
       "    <tr>\n",
       "      <th>3</th>\n",
       "      <td>O jogo é muito bom mais seria bom pra dar pra ...</td>\n",
       "      <td>5</td>\n",
       "    </tr>\n",
       "    <tr>\n",
       "      <th>4</th>\n",
       "      <td>Jogo é perfeitamente incrível, não limitar nad...</td>\n",
       "      <td>2</td>\n",
       "    </tr>\n",
       "  </tbody>\n",
       "</table>\n",
       "</div>"
      ],
      "text/plain": [
       "                                             content  score\n",
       "0  Muito ruim, não dá pra ver a calcinha das pers...      1\n",
       "1                                          Muito bom      5\n",
       "2                             cd a Paimon 8 estrelad      1\n",
       "3  O jogo é muito bom mais seria bom pra dar pra ...      5\n",
       "4  Jogo é perfeitamente incrível, não limitar nad...      2"
      ]
     },
     "execution_count": 32,
     "metadata": {},
     "output_type": "execute_result"
    }
   ],
   "source": [
    "result, continuation_token = reviews(\n",
    "    'com.miHoYo.GenshinImpact',\n",
    "    lang='pt', # defaults to 'en'\n",
    "    country='BR', # defaults to 'us'\n",
    "    sort=Sort.NEWEST, # defaults to Sort.NEWEST\n",
    "    count=200, # defaults to 100\n",
    "    filter_score_with=None # defaults to None(means all score)\n",
    ")\n",
    "\n",
    "# If you pass `continuation_token` as an argument to the reviews function at this point,\n",
    "# it will crawl the items after 3 review items.\n",
    "\n",
    "result, _ = reviews(\n",
    "    'com.miHoYo.GenshinImpact',\n",
    "    continuation_token=continuation_token # defaults to None(load from the beginning)\n",
    ")\n",
    "\n",
    "df = pd.DataFrame(result)\n",
    "df[['content', 'score']].head()\n"
   ]
  },
  {
   "cell_type": "markdown",
   "metadata": {},
   "source": [
    "### Sentimento\n",
    "Adicionando uma nova coluna sentimento que será usada como \"label\", em que:\n",
    "* 1 e 2 estrelas é sentimento “negativo”. \n",
    "* 3 estrelas é “neutro”. \n",
    "* 4 e 5 estrelas é “positivo”."
   ]
  },
  {
   "cell_type": "code",
   "execution_count": 33,
   "metadata": {},
   "outputs": [],
   "source": [
    "def set_sentimento(score):\n",
    "    if score <= 2:\n",
    "        return \"negativo\"\n",
    "    elif score == 3:\n",
    "        return \"neutro\"\n",
    "    else:\n",
    "        return \"positivo\""
   ]
  },
  {
   "cell_type": "code",
   "execution_count": 34,
   "metadata": {},
   "outputs": [
    {
     "data": {
      "text/html": [
       "<div>\n",
       "<style scoped>\n",
       "    .dataframe tbody tr th:only-of-type {\n",
       "        vertical-align: middle;\n",
       "    }\n",
       "\n",
       "    .dataframe tbody tr th {\n",
       "        vertical-align: top;\n",
       "    }\n",
       "\n",
       "    .dataframe thead th {\n",
       "        text-align: right;\n",
       "    }\n",
       "</style>\n",
       "<table border=\"1\" class=\"dataframe\">\n",
       "  <thead>\n",
       "    <tr style=\"text-align: right;\">\n",
       "      <th></th>\n",
       "      <th>content</th>\n",
       "      <th>score</th>\n",
       "      <th>sentimento</th>\n",
       "    </tr>\n",
       "  </thead>\n",
       "  <tbody>\n",
       "    <tr>\n",
       "      <th>0</th>\n",
       "      <td>Muito ruim, não dá pra ver a calcinha das pers...</td>\n",
       "      <td>1</td>\n",
       "      <td>negativo</td>\n",
       "    </tr>\n",
       "    <tr>\n",
       "      <th>1</th>\n",
       "      <td>Muito bom</td>\n",
       "      <td>5</td>\n",
       "      <td>positivo</td>\n",
       "    </tr>\n",
       "    <tr>\n",
       "      <th>2</th>\n",
       "      <td>cd a Paimon 8 estrelad</td>\n",
       "      <td>1</td>\n",
       "      <td>negativo</td>\n",
       "    </tr>\n",
       "    <tr>\n",
       "      <th>3</th>\n",
       "      <td>O jogo é muito bom mais seria bom pra dar pra ...</td>\n",
       "      <td>5</td>\n",
       "      <td>positivo</td>\n",
       "    </tr>\n",
       "    <tr>\n",
       "      <th>4</th>\n",
       "      <td>Jogo é perfeitamente incrível, não limitar nad...</td>\n",
       "      <td>2</td>\n",
       "      <td>negativo</td>\n",
       "    </tr>\n",
       "  </tbody>\n",
       "</table>\n",
       "</div>"
      ],
      "text/plain": [
       "                                             content  score sentimento\n",
       "0  Muito ruim, não dá pra ver a calcinha das pers...      1   negativo\n",
       "1                                          Muito bom      5   positivo\n",
       "2                             cd a Paimon 8 estrelad      1   negativo\n",
       "3  O jogo é muito bom mais seria bom pra dar pra ...      5   positivo\n",
       "4  Jogo é perfeitamente incrível, não limitar nad...      2   negativo"
      ]
     },
     "execution_count": 34,
     "metadata": {},
     "output_type": "execute_result"
    }
   ],
   "source": [
    "df['sentimento'] = df['score'].apply(set_sentimento)\n",
    "df[['content', 'score', 'sentimento']].head()"
   ]
  },
  {
   "cell_type": "markdown",
   "metadata": {},
   "source": [
    "### Análise dos dados\n",
    "* Esse é um problema com desbalanceamento de classes? \n",
    "* Qual é a distribuição dos tamanhos das reviews? \n",
    "* Quais são as palavras mais frequentes? "
   ]
  },
  {
   "cell_type": "code",
   "execution_count": 35,
   "metadata": {},
   "outputs": [
    {
     "data": {
      "image/png": "[encoded data removed]",
      "text/plain": [
       "<Figure size 640x480 with 1 Axes>"
      ]
     },
     "metadata": {},
     "output_type": "display_data"
    },
    {
     "name": "stdout",
     "output_type": "stream",
     "text": [
      "Quantidade de Sentimentos Positivos: 120\n",
      "Quantidade de Sentimentos Negativos: 68\n",
      "Quantidade de Sentimentos Neutros: 12\n"
     ]
    },
    {
     "name": "stderr",
     "output_type": "stream",
     "text": [
      "D:\\Temp\\ipykernel_22408\\1820044318.py:13: FutureWarning: Series.__getitem__ treating keys as positions is deprecated. In a future version, integer keys will always be treated as labels (consistent with DataFrame behavior). To access a value by position, use `ser.iloc[pos]`\n",
      "  print('Quantidade de Sentimentos Positivos:', sentimento_counts[0])\n",
      "D:\\Temp\\ipykernel_22408\\1820044318.py:14: FutureWarning: Series.__getitem__ treating keys as positions is deprecated. In a future version, integer keys will always be treated as labels (consistent with DataFrame behavior). To access a value by position, use `ser.iloc[pos]`\n",
      "  print('Quantidade de Sentimentos Negativos:', sentimento_counts[1])\n",
      "D:\\Temp\\ipykernel_22408\\1820044318.py:15: FutureWarning: Series.__getitem__ treating keys as positions is deprecated. In a future version, integer keys will always be treated as labels (consistent with DataFrame behavior). To access a value by position, use `ser.iloc[pos]`\n",
      "  print('Quantidade de Sentimentos Neutros:', sentimento_counts[2])\n"
     ]
    }
   ],
   "source": [
    "#Desbalanceamento de Classes\n",
    "import matplotlib.pyplot as plt\n",
    "import seaborn as sns\n",
    "\n",
    "# Contagem dos sentimentos\n",
    "sentimento_counts = df['sentimento'].value_counts()\n",
    "\n",
    "# Visualização da distribuição\n",
    "sns.countplot(x='sentimento', data=df)\n",
    "plt.title('Distribuição dos Sentimentos')\n",
    "plt.show()\n",
    "\n",
    "print('Quantidade de Sentimentos Positivos:', sentimento_counts[0])\n",
    "print('Quantidade de Sentimentos Negativos:', sentimento_counts[1]) \n",
    "print('Quantidade de Sentimentos Neutros:', sentimento_counts[2]) "
   ]
  },
  {
   "cell_type": "markdown",
   "metadata": {},
   "source": [
    "Como podemos ver no gráfico acima, temos um problema de desbalanceamento de classes. Por isso, usaremos como métrica principal o f1_score e técnicas de balanceamento como SMOTE e pesos de classe."
   ]
  },
  {
   "cell_type": "code",
   "execution_count": 36,
   "metadata": {},
   "outputs": [
    {
     "data": {
      "image/png": "[encoded data removed]",
      "text/plain": [
       "<Figure size 640x480 with 1 Axes>"
      ]
     },
     "metadata": {},
     "output_type": "display_data"
    },
    {
     "name": "stdout",
     "output_type": "stream",
     "text": [
      "Máximo de palavras em uma linha: 95\n"
     ]
    }
   ],
   "source": [
    "# Número de palavras por review\n",
    "df['num_palavras'] = df['content'].str.split().apply(len)\n",
    "\n",
    "sns.histplot(data=df, x='num_palavras', bins=30)\n",
    "plt.title('Distribuição do Número de Palavras por Review')\n",
    "plt.xlabel('Número de Palavras')\n",
    "plt.ylabel('Frequência')\n",
    "plt.show()\n",
    "\n",
    "print('Máximo de palavras em uma linha:', df['num_palavras'].max())"
   ]
  },
  {
   "cell_type": "markdown",
   "metadata": {},
   "source": [
    "Antes de fazer a análise da frequência das palavras é preciso preparar os dados."
   ]
  },
  {
   "cell_type": "code",
   "execution_count": 37,
   "metadata": {},
   "outputs": [
    {
     "name": "stderr",
     "output_type": "stream",
     "text": [
      "[nltk_data] Downloading package stopwords to\n",
      "[nltk_data]     C:\\Users\\Usuario\\AppData\\Roaming\\nltk_data...\n",
      "[nltk_data]   Package stopwords is already up-to-date!\n",
      "[nltk_data] Downloading package punkt_tab to\n",
      "[nltk_data]     C:\\Users\\Usuario\\AppData\\Roaming\\nltk_data...\n",
      "[nltk_data]   Package punkt_tab is already up-to-date!\n",
      "[nltk_data] Downloading package rslp to\n",
      "[nltk_data]     C:\\Users\\Usuario\\AppData\\Roaming\\nltk_data...\n",
      "[nltk_data]   Package rslp is already up-to-date!\n"
     ]
    },
    {
     "data": {
      "text/plain": [
       "True"
      ]
     },
     "execution_count": 37,
     "metadata": {},
     "output_type": "execute_result"
    }
   ],
   "source": [
    "import nltk\n",
    "nltk.download('stopwords')\n",
    "nltk.download('punkt_tab')\n",
    "nltk.download('rslp')"
   ]
  },
  {
   "cell_type": "markdown",
   "metadata": {},
   "source": [
    "baixar o modelo pt_core_news_sm para usar Lematização\n",
    "* python -m spacy download pt_core_news_sm"
   ]
  },
  {
   "cell_type": "code",
   "execution_count": 38,
   "metadata": {},
   "outputs": [],
   "source": [
    "# Funções de Pré-processamento e tokenização\n",
    "def normalize_accents(text):\n",
    "    return unicodedata.normalize(\"NFKD\", text).encode(\"ASCII\", \"ignore\").decode(\"utf-8\")\n",
    "\n",
    "def normalize_str(text):\n",
    "    text = text.lower()\n",
    "    text = remove_punctuation(text)\n",
    "    text = normalize_accents(text)\n",
    "    text = re.sub(re.compile(r\" +\"), \" \",text)\n",
    "    return \" \".join([w for w in text.split()])\n",
    "\n",
    "def remove_punctuation(text):\n",
    "    punctuations = string.punctuation\n",
    "    table = str.maketrans({key: \" \" for key in punctuations})\n",
    "    text = text.translate(table)\n",
    "    return text\n",
    "\n",
    "\n",
    "def tokenizer(text):\n",
    "    nlp = spacy.load('pt_core_news_sm')\n",
    "    doc = nlp(text)\n",
    "    stop_words = nltk.corpus.stopwords.words(\"portuguese\") # english, caso o dataset seja em ingles\n",
    "    if isinstance(text, str):\n",
    "        text = normalize_str(text)\n",
    "        text = \"\".join([w for w in text if not w.isdigit()])\n",
    "        text = word_tokenize(text)\n",
    "        text = [x.lemma_ for x in doc] # aplicando Lematização\n",
    "        text = [x for x in text if x not in stop_words] # Remoção de stopwords\n",
    "        text = [y for y in text if len(y) > 2]\n",
    "        return [t for t in text]\n",
    "    else:\n",
    "        return None"
   ]
  },
  {
   "cell_type": "code",
   "execution_count": 14,
   "metadata": {},
   "outputs": [
    {
     "data": {
      "text/plain": [
       "0                                   [Paimon, estrelad]\n",
       "1    [jogo, bom, bom, pra, dar, pra, juntar, a o, h...\n",
       "2    [jogo, perfeitamente, incrível, limitar, nada,...\n",
       "3    [eln, conseguir, jogar, giga, disponível, pfv,...\n",
       "4                                                   []\n",
       "Name: content_Treated, dtype: object"
      ]
     },
     "execution_count": 14,
     "metadata": {},
     "output_type": "execute_result"
    }
   ],
   "source": [
    "df_analysis = df\n",
    "df_analysis['content_Treated'] = df_analysis['content'].apply(tokenizer)\n",
    "df_analysis['content_Treated'].head()"
   ]
  },
  {
   "cell_type": "code",
   "execution_count": 15,
   "metadata": {},
   "outputs": [
    {
     "name": "stdout",
     "output_type": "stream",
     "text": [
      "           word  count\n",
      "445        jogo    197\n",
      "105         bom    111\n",
      "269          em     82\n",
      "791         ter     79\n",
      "195          de     66\n",
      "654         pra     48\n",
      "623  personagem     42\n",
      "444       jogar     39\n",
      "394     gráfico     29\n",
      "340       fazer     26\n",
      "638       poder     26\n",
      "693      querer     21\n",
      "133     celular     20\n",
      "669    problema     19\n",
      "403    história     18\n",
      "425    incrível     18\n",
      "168   conseguir     18\n",
      "832         ver     16\n",
      "625       pesar     16\n",
      "622    perfeito     16\n"
     ]
    }
   ],
   "source": [
    "# Criar a matriz\n",
    "vectorizer = CountVectorizer()\n",
    "X = vectorizer.fit_transform(df_analysis['content_Treated'].apply(lambda x: ' '.join(x)))\n",
    "\n",
    "# Sumarização por coluna\n",
    "word_counts = X.sum(axis=0)\n",
    "words_freq = pd.DataFrame({'word': vectorizer.get_feature_names_out(), 'count': word_counts.tolist()[0]})\n",
    "words_freq = words_freq.sort_values(by='count', ascending=False)\n",
    "\n",
    "# Visualizar as palavras mais frequentes\n",
    "print(words_freq.head(20))"
   ]
  },
  {
   "cell_type": "markdown",
   "metadata": {},
   "source": [
    "## Desenvolvendo modelo de classificação com SVM\n"
   ]
  },
  {
   "cell_type": "code",
   "execution_count": 39,
   "metadata": {},
   "outputs": [
    {
     "data": {
      "text/plain": [
       "0    [ruim, dar, pra, ver, calcinha, de o, personagem]\n",
       "1                                                [bom]\n",
       "2                                   [Paimon, estrelad]\n",
       "3    [jogo, bom, bom, pra, dar, pra, juntar, a o, h...\n",
       "4    [jogo, perfeitamente, incrível, limitar, nada,...\n",
       "Name: content_Treated, dtype: object"
      ]
     },
     "execution_count": 39,
     "metadata": {},
     "output_type": "execute_result"
    }
   ],
   "source": [
    "# Pré-processamento e tokenização\n",
    "df['content_Treated'] = df['content'].apply(tokenizer)\n",
    "df['content_Treated'].head()"
   ]
  },
  {
   "cell_type": "code",
   "execution_count": 40,
   "metadata": {},
   "outputs": [
    {
     "data": {
      "text/plain": [
       "<60x718 sparse matrix of type '<class 'numpy.int64'>'\n",
       "\twith 547 stored elements in Compressed Sparse Row format>"
      ]
     },
     "execution_count": 40,
     "metadata": {},
     "output_type": "execute_result"
    }
   ],
   "source": [
    "#CountVectorizer para vetorização\n",
    "X = df['content_Treated'].apply(lambda x: ' '.join(x)).values\n",
    "y = df['sentimento'].values\n",
    "X_train, X_test, y_train, y_test = train_test_split(X, y, test_size=0.3)\n",
    "\n",
    "vect = CountVectorizer(lowercase=False)\n",
    "vect.fit(X_train)\n",
    "X_train = vect.transform(X_train)\n",
    "X_train\n",
    "\n",
    "X_test = vect.transform(X_test)\n",
    "X_test"
   ]
  },
  {
   "cell_type": "code",
   "execution_count": 41,
   "metadata": {},
   "outputs": [],
   "source": [
    "# Aplica o SMOTE para balancear as classes\n",
    "smote = SMOTE(random_state=42)\n",
    "X_resampled, y_resampled = smote.fit_resample(X_train, y_train)\n",
    "\n",
    "# Treina o modelo SVM com pesos balanceados\n",
    "clf = SVC(kernel='linear', class_weight='balanced')\n",
    "start_time = time.time()\n",
    "clf.fit(X_resampled, y_resampled)\n",
    "end_time = time.time()\n",
    "\n",
    "# Previsões\n",
    "y_pred = clf.predict(X_test)\n"
   ]
  },
  {
   "cell_type": "code",
   "execution_count": 42,
   "metadata": {},
   "outputs": [
    {
     "data": {
      "image/png": "[encoded data removed]",
      "text/plain": [
       "<Figure size 640x480 with 1 Axes>"
      ]
     },
     "metadata": {},
     "output_type": "display_data"
    },
    {
     "name": "stdout",
     "output_type": "stream",
     "text": [
      "Quantidade de Sentimentos Positivos (após balanceamento): 88\n",
      "Quantidade de Sentimentos Negativos (após balanceamento): 88\n",
      "Quantidade de Sentimentos Neutros (após balanceamento): 88\n"
     ]
    }
   ],
   "source": [
    "# Sentimentos após o balanceamento\n",
    "sentimento_counts_resampled = pd.Series(y_resampled).value_counts()\n",
    "\n",
    "sns.countplot(x=y_resampled)\n",
    "plt.title('Distribuição dos Sentimentos - Após o Balanceamento com SMOTE')\n",
    "plt.xlabel('Sentimento')\n",
    "plt.show()\n",
    "\n",
    "print('Quantidade de Sentimentos Positivos (após balanceamento):', sentimento_counts_resampled.get('positivo', 0))\n",
    "print('Quantidade de Sentimentos Negativos (após balanceamento):', sentimento_counts_resampled.get('negativo', 0))\n",
    "print('Quantidade de Sentimentos Neutros (após balanceamento):', sentimento_counts_resampled.get('neutro', 0))"
   ]
  },
  {
   "cell_type": "code",
   "execution_count": 43,
   "metadata": {},
   "outputs": [
    {
     "name": "stdout",
     "output_type": "stream",
     "text": [
      "0:00:00.008961\n"
     ]
    }
   ],
   "source": [
    "#traduzindo o tempo decorrido\n",
    "import datetime\n",
    "sec = end_time-start_time\n",
    "print(str(datetime.timedelta(seconds = sec)))"
   ]
  },
  {
   "cell_type": "markdown",
   "metadata": {},
   "source": [
    "### Analisando os resultados do SVM\n"
   ]
  },
  {
   "cell_type": "code",
   "execution_count": 44,
   "metadata": {},
   "outputs": [
    {
     "name": "stdout",
     "output_type": "stream",
     "text": [
      "F1_score: 0.5939112487100104\n",
      "Precision: 0.625925925925926\n",
      "Accuracy: 0.5833333333333334\n"
     ]
    }
   ],
   "source": [
    "# f1_score, precision e acurácia \n",
    "print(\"F1_score:\",metrics.f1_score(y_test, y_pred, average=\"weighted\"))\n",
    "print(\"Precision:\",metrics.precision_score(y_test, y_pred, average=\"weighted\"))\n",
    "print(\"Accuracy:\", metrics.accuracy_score(y_test, y_pred, normalize=True))"
   ]
  },
  {
   "cell_type": "markdown",
   "metadata": {},
   "source": [
    "## Desenvolvendo modelo de classificação usando extração de variáveis"
   ]
  },
  {
   "cell_type": "code",
   "execution_count": 45,
   "metadata": {},
   "outputs": [],
   "source": [
    "# Preparação dos dados\n",
    "X = df['content_Treated'].apply(lambda x: ' '.join(x)).values\n",
    "y = df['sentimento'].values\n",
    "\n",
    "# Dividir dados em treino e validação\n",
    "X_train, X_test, y_train, y_test = train_test_split(X, y, test_size=0.3)\n",
    "\n",
    "# Transformar rótulos de texto em valores numéricos\n",
    "label_encoder = LabelEncoder()\n",
    "y_train = label_encoder.fit_transform(y_train)  \n",
    "y_test = label_encoder.transform(y_test)   \n",
    "\n",
    "# Calcular pesos de classe\n",
    "class_weights = compute_class_weight('balanced', classes=np.unique(y_train), y=y_train)\n",
    "class_weights = torch.tensor(class_weights, dtype=torch.float).to('cuda')  # Move para GPU se disponível\n",
    "\n",
    "# Tokenização com o tokenizer BERT\n",
    "tokenizer = BertTokenizer.from_pretrained('bert-base-uncased')\n",
    "\n",
    "train_encodings = tokenizer(list(X_train), truncation=True, padding=True, max_length=128)\n",
    "val_encodings = tokenizer(list(X_test), truncation=True, padding=True, max_length=128)"
   ]
  },
  {
   "cell_type": "code",
   "execution_count": 46,
   "metadata": {},
   "outputs": [],
   "source": [
    "class GenshinDataset(torch.utils.data.Dataset):\n",
    "    def __init__(self, encodings, labels):\n",
    "        self.encodings = encodings\n",
    "        self.labels = labels\n",
    "    def __getitem__(self, idx):\n",
    "        # Garantindo que os dados são retornados como tensores 2D\n",
    "        item = {key: torch.tensor(val[idx], dtype=torch.long) for key, val in self.encodings.items()}\n",
    "        item['labels'] = torch.tensor(self.labels[idx], dtype=torch.long)\n",
    "        return item\n",
    "    def __len__(self):\n",
    "        return len(self.labels)\n",
    "    \n",
    "train_dataset = GenshinDataset(train_encodings, y_train)\n",
    "val_dataset = GenshinDataset(val_encodings, y_test)"
   ]
  },
  {
   "cell_type": "code",
   "execution_count": 47,
   "metadata": {},
   "outputs": [
    {
     "name": "stderr",
     "output_type": "stream",
     "text": [
      "Some weights of BertForSequenceClassification were not initialized from the model checkpoint at bert-base-uncased and are newly initialized: ['classifier.bias', 'classifier.weight']\n",
      "You should probably TRAIN this model on a down-stream task to be able to use it for predictions and inference.\n"
     ]
    }
   ],
   "source": [
    "# Configurar o modelo\n",
    "model = BertForSequenceClassification.from_pretrained('bert-base-uncased', num_labels=3)"
   ]
  },
  {
   "cell_type": "code",
   "execution_count": 48,
   "metadata": {},
   "outputs": [],
   "source": [
    "class WeightedTrainer(Trainer):\n",
    "    def compute_loss(self, model, inputs, return_outputs=False):\n",
    "        labels = inputs.get(\"labels\")\n",
    "        outputs = model(**inputs)\n",
    "        logits = outputs.get(\"logits\")\n",
    "\n",
    "        # Calcular a perda com class_weights\n",
    "        loss = F.cross_entropy(logits, labels, weight=class_weights)\n",
    "        \n",
    "        return (loss, outputs) if return_outputs else loss"
   ]
  },
  {
   "cell_type": "code",
   "execution_count": 49,
   "metadata": {},
   "outputs": [],
   "source": [
    "# Parâmetros de treinamento\n",
    "training_args = TrainingArguments(\n",
    "    output_dir='./results',\n",
    "    num_train_epochs=15,\n",
    "    per_device_train_batch_size=8,\n",
    "    per_device_eval_batch_size=8,\n",
    "    warmup_steps=500,\n",
    "    weight_decay=0.01,\n",
    "    logging_dir='./logs',\n",
    "    logging_steps=10,\n",
    ")"
   ]
  },
  {
   "cell_type": "code",
   "execution_count": 50,
   "metadata": {},
   "outputs": [],
   "source": [
    "# Trainer\n",
    "trainer = Trainer(\n",
    "    model=model,\n",
    "    args=training_args,\n",
    "    train_dataset=train_dataset,\n",
    "    eval_dataset=val_dataset\n",
    ")"
   ]
  },
  {
   "cell_type": "code",
   "execution_count": 51,
   "metadata": {},
   "outputs": [
    {
     "name": "stderr",
     "output_type": "stream",
     "text": [
      "  4%|▎         | 10/270 [00:03<01:24,  3.09it/s]"
     ]
    },
    {
     "name": "stdout",
     "output_type": "stream",
     "text": [
      "{'loss': 1.2345, 'grad_norm': 9.7675199508667, 'learning_rate': 1.0000000000000002e-06, 'epoch': 0.56}\n"
     ]
    },
    {
     "name": "stderr",
     "output_type": "stream",
     "text": [
      "  7%|▋         | 20/270 [00:06<01:15,  3.30it/s]"
     ]
    },
    {
     "name": "stdout",
     "output_type": "stream",
     "text": [
      "{'loss': 1.1584, 'grad_norm': 10.029195785522461, 'learning_rate': 2.0000000000000003e-06, 'epoch': 1.11}\n"
     ]
    },
    {
     "name": "stderr",
     "output_type": "stream",
     "text": [
      " 11%|█         | 30/270 [00:09<01:15,  3.19it/s]"
     ]
    },
    {
     "name": "stdout",
     "output_type": "stream",
     "text": [
      "{'loss': 1.0588, 'grad_norm': 6.577760696411133, 'learning_rate': 3e-06, 'epoch': 1.67}\n"
     ]
    },
    {
     "name": "stderr",
     "output_type": "stream",
     "text": [
      " 15%|█▍        | 40/270 [00:12<01:10,  3.27it/s]"
     ]
    },
    {
     "name": "stdout",
     "output_type": "stream",
     "text": [
      "{'loss': 1.0098, 'grad_norm': 6.360846996307373, 'learning_rate': 4.000000000000001e-06, 'epoch': 2.22}\n"
     ]
    },
    {
     "name": "stderr",
     "output_type": "stream",
     "text": [
      " 19%|█▊        | 50/270 [00:15<01:09,  3.15it/s]"
     ]
    },
    {
     "name": "stdout",
     "output_type": "stream",
     "text": [
      "{'loss': 0.9227, 'grad_norm': 3.6737959384918213, 'learning_rate': 5e-06, 'epoch': 2.78}\n"
     ]
    },
    {
     "name": "stderr",
     "output_type": "stream",
     "text": [
      " 22%|██▏       | 60/270 [00:18<01:09,  3.02it/s]"
     ]
    },
    {
     "name": "stdout",
     "output_type": "stream",
     "text": [
      "{'loss': 0.9205, 'grad_norm': 8.221525192260742, 'learning_rate': 6e-06, 'epoch': 3.33}\n"
     ]
    },
    {
     "name": "stderr",
     "output_type": "stream",
     "text": [
      " 26%|██▌       | 70/270 [00:21<00:56,  3.51it/s]"
     ]
    },
    {
     "name": "stdout",
     "output_type": "stream",
     "text": [
      "{'loss': 0.9017, 'grad_norm': 7.111280918121338, 'learning_rate': 7.000000000000001e-06, 'epoch': 3.89}\n"
     ]
    },
    {
     "name": "stderr",
     "output_type": "stream",
     "text": [
      " 30%|██▉       | 80/270 [00:24<00:53,  3.56it/s]"
     ]
    },
    {
     "name": "stdout",
     "output_type": "stream",
     "text": [
      "{'loss': 0.7925, 'grad_norm': 5.337774276733398, 'learning_rate': 8.000000000000001e-06, 'epoch': 4.44}\n"
     ]
    },
    {
     "name": "stderr",
     "output_type": "stream",
     "text": [
      " 33%|███▎      | 90/270 [00:27<00:45,  3.99it/s]"
     ]
    },
    {
     "name": "stdout",
     "output_type": "stream",
     "text": [
      "{'loss': 0.9886, 'grad_norm': 10.234284400939941, 'learning_rate': 9e-06, 'epoch': 5.0}\n"
     ]
    },
    {
     "name": "stderr",
     "output_type": "stream",
     "text": [
      " 37%|███▋      | 100/270 [00:30<00:47,  3.56it/s]"
     ]
    },
    {
     "name": "stdout",
     "output_type": "stream",
     "text": [
      "{'loss': 0.7464, 'grad_norm': 4.048616409301758, 'learning_rate': 1e-05, 'epoch': 5.56}\n"
     ]
    },
    {
     "name": "stderr",
     "output_type": "stream",
     "text": [
      " 41%|████      | 110/270 [00:32<00:43,  3.67it/s]"
     ]
    },
    {
     "name": "stdout",
     "output_type": "stream",
     "text": [
      "{'loss': 0.9658, 'grad_norm': 7.154993534088135, 'learning_rate': 1.1000000000000001e-05, 'epoch': 6.11}\n"
     ]
    },
    {
     "name": "stderr",
     "output_type": "stream",
     "text": [
      " 44%|████▍     | 120/270 [00:35<00:41,  3.59it/s]"
     ]
    },
    {
     "name": "stdout",
     "output_type": "stream",
     "text": [
      "{'loss': 0.8594, 'grad_norm': 3.417813301086426, 'learning_rate': 1.2e-05, 'epoch': 6.67}\n"
     ]
    },
    {
     "name": "stderr",
     "output_type": "stream",
     "text": [
      " 48%|████▊     | 130/270 [00:38<00:37,  3.71it/s]"
     ]
    },
    {
     "name": "stdout",
     "output_type": "stream",
     "text": [
      "{'loss': 0.8401, 'grad_norm': 4.626450061798096, 'learning_rate': 1.3000000000000001e-05, 'epoch': 7.22}\n"
     ]
    },
    {
     "name": "stderr",
     "output_type": "stream",
     "text": [
      " 52%|█████▏    | 140/270 [00:41<00:35,  3.63it/s]"
     ]
    },
    {
     "name": "stdout",
     "output_type": "stream",
     "text": [
      "{'loss': 0.7031, 'grad_norm': 7.082793712615967, 'learning_rate': 1.4000000000000001e-05, 'epoch': 7.78}\n"
     ]
    },
    {
     "name": "stderr",
     "output_type": "stream",
     "text": [
      " 56%|█████▌    | 150/270 [00:44<00:35,  3.38it/s]"
     ]
    },
    {
     "name": "stdout",
     "output_type": "stream",
     "text": [
      "{'loss': 0.6726, 'grad_norm': 9.34635066986084, 'learning_rate': 1.5e-05, 'epoch': 8.33}\n"
     ]
    },
    {
     "name": "stderr",
     "output_type": "stream",
     "text": [
      " 59%|█████▉    | 160/270 [00:47<00:34,  3.17it/s]"
     ]
    },
    {
     "name": "stdout",
     "output_type": "stream",
     "text": [
      "{'loss': 0.6953, 'grad_norm': 13.158835411071777, 'learning_rate': 1.6000000000000003e-05, 'epoch': 8.89}\n"
     ]
    },
    {
     "name": "stderr",
     "output_type": "stream",
     "text": [
      " 63%|██████▎   | 170/270 [00:49<00:29,  3.44it/s]"
     ]
    },
    {
     "name": "stdout",
     "output_type": "stream",
     "text": [
      "{'loss': 0.6031, 'grad_norm': 15.950002670288086, 'learning_rate': 1.7000000000000003e-05, 'epoch': 9.44}\n"
     ]
    },
    {
     "name": "stderr",
     "output_type": "stream",
     "text": [
      " 67%|██████▋   | 180/270 [00:52<00:23,  3.82it/s]"
     ]
    },
    {
     "name": "stdout",
     "output_type": "stream",
     "text": [
      "{'loss': 0.5802, 'grad_norm': 6.768305778503418, 'learning_rate': 1.8e-05, 'epoch': 10.0}\n"
     ]
    },
    {
     "name": "stderr",
     "output_type": "stream",
     "text": [
      " 70%|███████   | 190/270 [00:55<00:22,  3.57it/s]"
     ]
    },
    {
     "name": "stdout",
     "output_type": "stream",
     "text": [
      "{'loss': 0.4706, 'grad_norm': 17.892087936401367, 'learning_rate': 1.9e-05, 'epoch': 10.56}\n"
     ]
    },
    {
     "name": "stderr",
     "output_type": "stream",
     "text": [
      " 74%|███████▍  | 200/270 [00:58<00:18,  3.80it/s]"
     ]
    },
    {
     "name": "stdout",
     "output_type": "stream",
     "text": [
      "{'loss': 0.6106, 'grad_norm': 5.357973575592041, 'learning_rate': 2e-05, 'epoch': 11.11}\n"
     ]
    },
    {
     "name": "stderr",
     "output_type": "stream",
     "text": [
      " 78%|███████▊  | 210/270 [01:01<00:16,  3.56it/s]"
     ]
    },
    {
     "name": "stdout",
     "output_type": "stream",
     "text": [
      "{'loss': 0.524, 'grad_norm': 23.371450424194336, 'learning_rate': 2.1e-05, 'epoch': 11.67}\n"
     ]
    },
    {
     "name": "stderr",
     "output_type": "stream",
     "text": [
      " 81%|████████▏ | 220/270 [01:03<00:14,  3.57it/s]"
     ]
    },
    {
     "name": "stdout",
     "output_type": "stream",
     "text": [
      "{'loss': 0.4241, 'grad_norm': 5.1861042976379395, 'learning_rate': 2.2000000000000003e-05, 'epoch': 12.22}\n"
     ]
    },
    {
     "name": "stderr",
     "output_type": "stream",
     "text": [
      " 85%|████████▌ | 230/270 [01:06<00:11,  3.54it/s]"
     ]
    },
    {
     "name": "stdout",
     "output_type": "stream",
     "text": [
      "{'loss': 0.301, 'grad_norm': 6.042303562164307, 'learning_rate': 2.3000000000000003e-05, 'epoch': 12.78}\n"
     ]
    },
    {
     "name": "stderr",
     "output_type": "stream",
     "text": [
      " 89%|████████▉ | 240/270 [01:09<00:08,  3.70it/s]"
     ]
    },
    {
     "name": "stdout",
     "output_type": "stream",
     "text": [
      "{'loss': 0.2487, 'grad_norm': 3.5600805282592773, 'learning_rate': 2.4e-05, 'epoch': 13.33}\n"
     ]
    },
    {
     "name": "stderr",
     "output_type": "stream",
     "text": [
      " 93%|█████████▎| 250/270 [01:12<00:05,  3.65it/s]"
     ]
    },
    {
     "name": "stdout",
     "output_type": "stream",
     "text": [
      "{'loss': 0.3025, 'grad_norm': 3.6564130783081055, 'learning_rate': 2.5e-05, 'epoch': 13.89}\n"
     ]
    },
    {
     "name": "stderr",
     "output_type": "stream",
     "text": [
      " 96%|█████████▋| 260/270 [01:14<00:02,  3.49it/s]"
     ]
    },
    {
     "name": "stdout",
     "output_type": "stream",
     "text": [
      "{'loss': 0.2815, 'grad_norm': 21.065168380737305, 'learning_rate': 2.6000000000000002e-05, 'epoch': 14.44}\n"
     ]
    },
    {
     "name": "stderr",
     "output_type": "stream",
     "text": [
      "100%|██████████| 270/270 [01:17<00:00,  3.97it/s]"
     ]
    },
    {
     "name": "stdout",
     "output_type": "stream",
     "text": [
      "{'loss': 0.266, 'grad_norm': 3.3721601963043213, 'learning_rate': 2.7000000000000002e-05, 'epoch': 15.0}\n"
     ]
    },
    {
     "name": "stderr",
     "output_type": "stream",
     "text": [
      "100%|██████████| 270/270 [01:27<00:00,  3.08it/s]"
     ]
    },
    {
     "name": "stdout",
     "output_type": "stream",
     "text": [
      "{'train_runtime': 87.7739, 'train_samples_per_second': 23.925, 'train_steps_per_second': 3.076, 'train_loss': 0.7067518260743882, 'epoch': 15.0}\n"
     ]
    },
    {
     "name": "stderr",
     "output_type": "stream",
     "text": [
      "\n"
     ]
    },
    {
     "data": {
      "text/plain": [
       "TrainOutput(global_step=270, training_loss=0.7067518260743882, metrics={'train_runtime': 87.7739, 'train_samples_per_second': 23.925, 'train_steps_per_second': 3.076, 'total_flos': 138134544307200.0, 'train_loss': 0.7067518260743882, 'epoch': 15.0})"
      ]
     },
     "execution_count": 51,
     "metadata": {},
     "output_type": "execute_result"
    }
   ],
   "source": [
    "# Treinar o modelo\n",
    "trainer.train()"
   ]
  },
  {
   "cell_type": "code",
   "execution_count": 52,
   "metadata": {},
   "outputs": [
    {
     "name": "stderr",
     "output_type": "stream",
     "text": [
      "100%|██████████| 8/8 [00:00<00:00, 13.79it/s]\n"
     ]
    }
   ],
   "source": [
    "# Obtendo as previsões\n",
    "predictions = trainer.predict(val_dataset)\n",
    "preds = np.argmax(predictions.predictions, axis=1)\n",
    "\n",
    "# Convertendo os valores numéricos de volta para os rótulos originais\n",
    "y_pred = label_encoder.inverse_transform(preds)"
   ]
  },
  {
   "cell_type": "code",
   "execution_count": 53,
   "metadata": {},
   "outputs": [
    {
     "name": "stdout",
     "output_type": "stream",
     "text": [
      "F1_score BERT: 0.5452783192549274\n",
      "Precision BERT: 0.5619476268412439\n",
      "Accuracy BERT: 0.5833333333333334\n"
     ]
    },
    {
     "name": "stderr",
     "output_type": "stream",
     "text": [
      "c:\\Users\\Usuario\\AppData\\Local\\Programs\\Python\\Python312\\Lib\\site-packages\\sklearn\\metrics\\_classification.py:1531: UndefinedMetricWarning: Precision is ill-defined and being set to 0.0 in labels with no predicted samples. Use `zero_division` parameter to control this behavior.\n",
      "  _warn_prf(average, modifier, f\"{metric.capitalize()} is\", len(result))\n"
     ]
    }
   ],
   "source": [
    "# Convertendo o valor numérico para categorias\n",
    "y_test_val = label_encoder.inverse_transform(y_test)       \n",
    "\n",
    "# f1_score, precision e acurácia Do Fine-Tuning com BERT\n",
    "print(\"F1_score BERT:\",metrics.f1_score(y_test_val, y_pred, average=\"weighted\"))\n",
    "print(\"Precision BERT:\",metrics.precision_score(y_test_val, y_pred, average=\"weighted\"))\n",
    "print(\"Accuracy BERT:\",metrics.accuracy_score(y_test_val, y_pred))"
   ]
  }
 ],
 "metadata": {
  "kernelspec": {
   "display_name": "Python 3",
   "language": "python",
   "name": "python3"
  },
  "language_info": {
   "codemirror_mode": {
    "name": "ipython",
    "version": 3
   },
   "file_extension": ".py",
   "mimetype": "text/x-python",
   "name": "python",
   "nbconvert_exporter": "python",
   "pygments_lexer": "ipython3",
   "version": "3.12.4"
  }
 },
 "nbformat": 4,
 "nbformat_minor": 2
}
